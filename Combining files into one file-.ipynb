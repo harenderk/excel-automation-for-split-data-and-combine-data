{
 "cells": [
  {
   "cell_type": "code",
   "execution_count": 1,
   "id": "bfea5289",
   "metadata": {},
   "outputs": [],
   "source": [
    "import glob\n",
    "import os\n",
    "import pandas as pd"
   ]
  },
  {
   "cell_type": "code",
   "execution_count": 2,
   "id": "5f28271a",
   "metadata": {
    "scrolled": true
   },
   "outputs": [
    {
     "name": "stdout",
     "output_type": "stream",
     "text": [
      "File Path: C:\\\\Users\\\\Sonu\\\\Desktop\\\\python\\\\data science\\\\practice\\\\superstore_dataset2011-2015.xlsx\n"
     ]
    }
   ],
   "source": [
    "file=input('File Path: ')\n",
    "pth=os.path.dirname(file)\n",
    "extension = os.path.splitext(file)[1]\n",
    "files = glob.glob(os.path.join(pth, '*.xls*'))\n",
    "newfile=os.path.join(pth,'combined.xlsx')"
   ]
  },
  {
   "cell_type": "code",
   "execution_count": null,
   "id": "708550db",
   "metadata": {},
   "outputs": [],
   "source": [
    "df = pd.DataFrame()\n",
    "for f in files:\n",
    "    data = pd.read_excel(f)\n",
    "    df = df.append(data)\n"
   ]
  },
  {
   "cell_type": "code",
   "execution_count": null,
   "id": "d8ed16b4",
   "metadata": {},
   "outputs": [],
   "source": [
    "\n",
    "df.to_excel(newfile, sheet_name='combined', index=False)\n",
    "print('Completed')"
   ]
  }
 ],
 "metadata": {
  "kernelspec": {
   "display_name": "Python 3",
   "language": "python",
   "name": "python3"
  },
  "language_info": {
   "codemirror_mode": {
    "name": "ipython",
    "version": 3
   },
   "file_extension": ".py",
   "mimetype": "text/x-python",
   "name": "python",
   "nbconvert_exporter": "python",
   "pygments_lexer": "ipython3",
   "version": "3.8.10"
  }
 },
 "nbformat": 4,
 "nbformat_minor": 5
}
