{
 "cells": [
  {
   "cell_type": "code",
   "execution_count": 10,
   "id": "74421d8c",
   "metadata": {},
   "outputs": [],
   "source": [
    "import pandas as pd\n",
    "import os\n",
    "from openpyxl import load_workbook\n",
    "import xlsxwriter\n",
    "from shutil import copyfile"
   ]
  },
  {
   "cell_type": "code",
   "execution_count": 11,
   "id": "7c26a3c1",
   "metadata": {},
   "outputs": [],
   "source": [
    "def sendtofile(cols):\n",
    "    for i in cols:\n",
    "        df[df[colpick]== i].to_excel(\"{}/{}.xlsx\".format(pth,i),sheet_name=i,index=False)\n",
    "        print('\\n Completed')\n",
    "        print('Thanks for using this program')\n",
    "        return\n",
    "\n",
    "def sendtosheet(cols):\n",
    "    copyfile(file,newfile)\n",
    "    for j in cols:\n",
    "        writer = pd.ExcelWriter(newfile, engine='openpyxl')\n",
    "        for myname in cols:\n",
    "            mydf = df.loc[df[colpick]==myname]\n",
    "            mydf.to_excel(writer,sheet_name=myname,index=False)\n",
    "        writer.save()\n",
    "        \n",
    "    print('\\n Completed')\n",
    "    print('Thanks for using the program.')\n"
   ]
  },
  {
   "cell_type": "code",
   "execution_count": 12,
   "id": "35d300d2",
   "metadata": {
    "scrolled": true
   },
   "outputs": [
    {
     "name": "stdout",
     "output_type": "stream",
     "text": [
      "File path:C:\\\\Users\\\\Sonu\\\\Desktop\\\\python\\\\data science\\\\practice\\\\superstore_dataset2011-2015.xlsx\n",
      "Select Column:Segment\n",
      "You data will split based on these values Corporate, Consumer, Home Office and create 3 files or sheets based on next selection. If you are ready to proceed please type \"Y\" and hit enter. Hit \"N\" to exit.\n",
      "Ready to Proceed (Y/N):y\n",
      "Split into differnt sheets of File (S/F):f\n",
      "\n",
      " Completed\n",
      "Thanks for using this program\n"
     ]
    }
   ],
   "source": [
    "file=input('File path:')\n",
    "extension = os.path.splitext(file)[1]\n",
    "filename = os.path.splitext(file)[0]\n",
    "pth = os.path.dirname(file)\n",
    "newfile = os.path.join(pth,filename+'_2'+extension)\n",
    "df = pd.read_excel(file)\n",
    "colpick=input('Select Column:')\n",
    "cols=list(set(df[colpick].values))\n",
    "\n",
    "print('You data will split based on these values {} and create {} files or sheets based on next selection. If you are ready to proceed please type \"Y\" and hit enter. Hit \"N\" to exit.'.format(', '.join(cols),len(cols)))\n",
    "\n",
    "while True:\n",
    "    \n",
    "    x = input('Ready to Proceed (Y/N):').lower()\n",
    "    if x == 'y':\n",
    "        \n",
    "        while True:\n",
    "            \n",
    "            s = input('Split into differnt sheets of File (S/F):').lower()\n",
    "            if s=='f':\n",
    "                \n",
    "                sendtofile(cols)\n",
    "                break\n",
    "            elif s=='s':\n",
    "                sendtosheet(cols)\n",
    "                break\n",
    "            else: continue\n",
    "        break\n",
    "    elif x=='n':\n",
    "        print('\\n Thanks for using this program')\n",
    "        break\n",
    "    else: continue\n",
    "    \n"
   ]
  },
  {
   "cell_type": "code",
   "execution_count": 6,
   "id": "f574be44",
   "metadata": {},
   "outputs": [],
   "source": []
  }
 ],
 "metadata": {
  "kernelspec": {
   "display_name": "Python 3",
   "language": "python",
   "name": "python3"
  },
  "language_info": {
   "codemirror_mode": {
    "name": "ipython",
    "version": 3
   },
   "file_extension": ".py",
   "mimetype": "text/x-python",
   "name": "python",
   "nbconvert_exporter": "python",
   "pygments_lexer": "ipython3",
   "version": "3.8.10"
  }
 },
 "nbformat": 4,
 "nbformat_minor": 5
}
